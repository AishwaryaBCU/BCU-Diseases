{
  "nbformat": 4,
  "nbformat_minor": 0,
  "metadata": {
    "colab": {
      "provenance": []
    },
    "kernelspec": {
      "name": "python3",
      "display_name": "Python 3"
    },
    "language_info": {
      "name": "python"
    }
  },
  "cells": [
    {
      "cell_type": "markdown",
      "source": [
        "# **BREAST CANCER DISEASE PREDICTION**"
      ],
      "metadata": {
        "id": "LviP8zqJkw3v"
      }
    },
    {
      "cell_type": "markdown",
      "source": [
        "### **Importing the Dependencies**"
      ],
      "metadata": {
        "id": "n5TkPnxPk5tl"
      }
    },
    {
      "cell_type": "code",
      "source": [
        "import numpy as np\n",
        "import pandas as pd\n",
        "import matplotlib.pyplot as plt\n",
        "import seaborn as sns\n",
        "from sklearn.model_selection import train_test_split, RandomizedSearchCV\n",
        "from sklearn.ensemble import RandomForestClassifier, GradientBoostingClassifier, AdaBoostClassifier\n",
        "from sklearn.svm import SVC\n",
        "from sklearn.linear_model import LogisticRegression\n",
        "from sklearn.neighbors import KNeighborsClassifier\n",
        "from sklearn.metrics import confusion_matrix, accuracy_score, precision_score, recall_score, f1_score, roc_auc_score, roc_curve\n",
        "from scipy.stats import randint\n",
        "import pickle"
      ],
      "metadata": {
        "id": "PvQ7IBh_lBLV"
      },
      "execution_count": 7,
      "outputs": []
    },
    {
      "cell_type": "markdown",
      "source": [
        "### **Data Collection and Processing**"
      ],
      "metadata": {
        "id": "2FTcS6mIlDwg"
      }
    },
    {
      "cell_type": "code",
      "source": [
        "# Load and preprocess the dataset\n",
        "data = pd.read_csv('data.csv')\n",
        "data['diagnosis'].replace(['M', 'B'], [1, 0], inplace=True)\n",
        "data.drop('Unnamed: 32', axis=1, inplace=True)\n"
      ],
      "metadata": {
        "id": "OJ8Hz_wDlLo1"
      },
      "execution_count": 8,
      "outputs": []
    },
    {
      "cell_type": "code",
      "source": [
        "# Drop less useful features\n",
        "dataset = data.drop(['id', 'symmetry_se', 'smoothness_se', 'texture_se', 'fractal_dimension_mean'], axis=1)\n"
      ],
      "metadata": {
        "id": "hxqnMnFoIvnR"
      },
      "execution_count": 9,
      "outputs": []
    },
    {
      "cell_type": "markdown",
      "source": [
        "### **Splitting the Features and Target**"
      ],
      "metadata": {
        "id": "TJZNKm0QlXw1"
      }
    },
    {
      "cell_type": "code",
      "source": [
        "# Split the dataset\n",
        "X = dataset.drop('diagnosis', axis=1)\n",
        "y = dataset['diagnosis']\n",
        "X_train, X_test, y_train, y_test = train_test_split(X, y, test_size=0.2, random_state=42)\n",
        "\n",
        "\n"
      ],
      "metadata": {
        "id": "u3PCl9vNlgHc"
      },
      "execution_count": 10,
      "outputs": []
    },
    {
      "cell_type": "markdown",
      "source": [
        "### **Splitting the Data into Training Data & Test Data**"
      ],
      "metadata": {
        "id": "H_7VJuSolj5n"
      }
    },
    {
      "source": [
        "from sklearn.preprocessing import StandardScaler  # Import StandardScaler\n",
        "\n",
        "scaler = StandardScaler()\n",
        "X_train = scaler.fit_transform(X_train)\n",
        "X_test = scaler.transform(X_test)"
      ],
      "cell_type": "code",
      "metadata": {
        "id": "8-CS6y9KQzN6"
      },
      "execution_count": 11,
      "outputs": []
    },
    {
      "cell_type": "markdown",
      "source": [
        "### **Model Training and Evaluation**"
      ],
      "metadata": {
        "id": "1sDUsIgUlw77"
      }
    },
    {
      "cell_type": "code",
      "source": [
        "# Define and train models\n",
        "models = {\n",
        "    'RandomForest': RandomForestClassifier(n_jobs=-1),\n",
        "    'GradientBoosting': GradientBoostingClassifier(),\n",
        "    'AdaBoost': AdaBoostClassifier(),\n",
        "    'SVC': SVC(probability=True),\n",
        "    'LogisticRegression': LogisticRegression(max_iter=1000),\n",
        "    'KNeighbors': KNeighborsClassifier()\n",
        "}\n",
        "\n",
        "results = {}\n",
        "\n",
        "for name, model in models.items():\n",
        "    model.fit(X_train, y_train)\n",
        "    y_pred = model.predict(X_test)\n",
        "    y_prob = model.predict_proba(X_test)[:, 1]\n",
        "\n",
        "    results[name] = {\n",
        "        'Accuracy': round(accuracy_score(y_test, y_pred) * 100, 2),\n",
        "        'Precision': round(precision_score(y_test, y_pred) * 100, 2),\n",
        "        'Recall': round(recall_score(y_test, y_pred) * 100, 2),\n",
        "        'F1 Score': round(f1_score(y_test, y_pred) * 100, 2),\n",
        "        'AUC-ROC': round(roc_auc_score(y_test, y_prob) * 100, 2)\n",
        "    }\n",
        "\n",
        "# Convert results to DataFrame for easy viewing\n",
        "results_df = pd.DataFrame(results).T\n",
        "print(\"Model Comparison:\")\n",
        "print(results_df)"
      ],
      "metadata": {
        "colab": {
          "base_uri": "https://localhost:8080/"
        },
        "id": "6ySkuE_ilzGc",
        "outputId": "9c9d27a1-c272-45bb-881d-2c9b0cb3bce7"
      },
      "execution_count": 12,
      "outputs": [
        {
          "output_type": "stream",
          "name": "stdout",
          "text": [
            "Model Comparison:\n",
            "                    Accuracy  Precision  Recall  F1 Score  AUC-ROC\n",
            "RandomForest           96.49      97.56   93.02     95.24    99.53\n",
            "GradientBoosting       95.61      95.24   93.02     94.12    99.51\n",
            "AdaBoost               98.25      97.67   97.67     97.67    99.57\n",
            "SVC                    96.49      95.35   95.35     95.35    99.64\n",
            "LogisticRegression     97.37      97.62   95.35     96.47    99.74\n",
            "KNeighbors             96.49      95.35   95.35     95.35    98.40\n"
          ]
        }
      ]
    },
    {
      "cell_type": "markdown",
      "source": [
        "### MODELS COMPARISON"
      ],
      "metadata": {
        "id": "oHMXJ_qN-0vk"
      }
    },
    {
      "cell_type": "code",
      "source": [
        "# Displaying the comparison of models\n",
        "results_df = pd.DataFrame(results).T\n",
        "print(\"\\nModel Comparison:\")\n",
        "print(results_df)"
      ],
      "metadata": {
        "colab": {
          "base_uri": "https://localhost:8080/"
        },
        "id": "6LiFdi4J-ywC",
        "outputId": "a794a39a-956a-4995-abb7-7608fd6f85fa"
      },
      "execution_count": 13,
      "outputs": [
        {
          "output_type": "stream",
          "name": "stdout",
          "text": [
            "\n",
            "Model Comparison:\n",
            "                    Accuracy  Precision  Recall  F1 Score  AUC-ROC\n",
            "RandomForest           96.49      97.56   93.02     95.24    99.53\n",
            "GradientBoosting       95.61      95.24   93.02     94.12    99.51\n",
            "AdaBoost               98.25      97.67   97.67     97.67    99.57\n",
            "SVC                    96.49      95.35   95.35     95.35    99.64\n",
            "LogisticRegression     97.37      97.62   95.35     96.47    99.74\n",
            "KNeighbors             96.49      95.35   95.35     95.35    98.40\n"
          ]
        }
      ]
    },
    {
      "cell_type": "markdown",
      "source": [
        "# **Save the model**"
      ],
      "metadata": {
        "id": "UT2Cl29mLla9"
      }
    },
    {
      "cell_type": "code",
      "source": [
        "# Save the best model (example: RandomForest here) for further use\n",
        "best_model_name = results_df['Accuracy'].idxmax()\n",
        "best_model = models[best_model_name]\n",
        "pickle.dump(best_model, open('best_cancer_model.pkl', 'wb'))\n",
        "\n",
        "print(f\"Best Model: {best_model_name} with accuracy: {results[best_model_name]['Accuracy']}\")"
      ],
      "metadata": {
        "colab": {
          "base_uri": "https://localhost:8080/"
        },
        "id": "wLGe7_xAmRL2",
        "outputId": "2e861dcd-34d0-48dd-cd82-1cf2a01ecd57"
      },
      "execution_count": 15,
      "outputs": [
        {
          "output_type": "stream",
          "name": "stdout",
          "text": [
            "Best Model: AdaBoost with accuracy: 98.25\n"
          ]
        }
      ]
    },
    {
      "cell_type": "code",
      "source": [
        "\n",
        "\n",
        "import matplotlib.pyplot as plt\n",
        "# Sample data (replace with your actual results)\n",
        "models = ['RandomForest', 'GradientBoosting', 'AdaBoost', 'SVC', 'LogisticRegression', 'KNeighbors']\n",
        "accuracies = [95.61, 94.74, 98.25, 97.37, 96.49, 95.61]\n",
        "\n",
        "# Create bar plot\n",
        "plt.figure(figsize=(10, 6))\n",
        "plt.bar(models, accuracies, color=['blue', 'green', 'red', 'purple', 'orange', 'cyan'])\n",
        "plt.xlabel('Models')\n",
        "plt.ylabel('Accuracy (%)')\n",
        "plt.title('Model Comparison - Accuracy')\n",
        "plt.ylim([90, 100])  # Set y-axis limits for better visualization\n",
        "plt.xticks(rotation=45, ha='right')  # Rotate x-axis labels for readability\n",
        "\n",
        "# Highlight AdaBoost as the best\n",
        "plt.annotate('Best', xy=('AdaBoost', 98.25), xytext=(1, 99),\n",
        "             arrowprops=dict(facecolor='black', shrink=0.05))\n",
        "\n",
        "plt.tight_layout()\n",
        "plt.show()\n"
      ],
      "metadata": {
        "colab": {
          "base_uri": "https://localhost:8080/",
          "height": 607
        },
        "id": "RFH5rfLvTSly",
        "outputId": "f1d75575-cb90-4a79-e0e5-734d274e0f58"
      },
      "execution_count": 16,
      "outputs": [
        {
          "output_type": "display_data",
          "data": {
            "text/plain": [
              "<Figure size 1000x600 with 1 Axes>"
            ],
            "image/png": "[encoded data removed]"
          },
          "metadata": {}
        }
      ]
    },
    {
      "cell_type": "markdown",
      "source": [
        "# **Conclusion**\n",
        "This script covers the entire workflow from data loading to model evaluation and comparison. You can further refine the evaluation by using cross-validation or other techniques, but this script should give you a comprehensive start for your analysis."
      ],
      "metadata": {
        "id": "DfpmHdrymYXG"
      }
    },
    {
      "cell_type": "code",
      "source": [],
      "metadata": {
        "id": "1z3QIlZTLhR5"
      },
      "execution_count": 14,
      "outputs": []
    }
  ]
}