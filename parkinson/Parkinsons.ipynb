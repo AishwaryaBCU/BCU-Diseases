{
  "nbformat": 4,
  "nbformat_minor": 0,
  "metadata": {
    "colab": {
      "provenance": []
    },
    "kernelspec": {
      "name": "python3",
      "display_name": "Python 3"
    },
    "language_info": {
      "name": "python"
    }
  },
  "cells": [
    {
      "cell_type": "markdown",
      "source": [
        "# **PARKINSONS DISEASE PREDICTION**"
      ],
      "metadata": {
        "id": "LviP8zqJkw3v"
      }
    },
    {
      "cell_type": "markdown",
      "source": [
        "### **Importing the Dependencies**"
      ],
      "metadata": {
        "id": "n5TkPnxPk5tl"
      }
    },
    {
      "cell_type": "code",
      "source": [
        "import numpy as np\n",
        "import pandas as pd\n",
        "from sklearn.model_selection import train_test_split\n",
        "from sklearn import svm\n",
        "from sklearn.metrics import accuracy_score, precision_score, recall_score, f1_score, roc_auc_score, classification_report\n",
        "from sklearn.ensemble import RandomForestClassifier, GradientBoostingClassifier\n",
        "from sklearn.neighbors import KNeighborsClassifier\n",
        "from sklearn.linear_model import LogisticRegression\n",
        "from sklearn.tree import DecisionTreeClassifier\n",
        "from sklearn.preprocessing import StandardScaler\n",
        "import pickle\n"
      ],
      "metadata": {
        "id": "PvQ7IBh_lBLV"
      },
      "execution_count": 40,
      "outputs": []
    },
    {
      "cell_type": "markdown",
      "source": [
        "### **Data Collection and Processing**"
      ],
      "metadata": {
        "id": "2FTcS6mIlDwg"
      }
    },
    {
      "cell_type": "code",
      "source": [
        "# Data Collection & Analysis\n",
        "# Loading the data from csv file to a Pandas DataFrame\n",
        "parkinsons_data = pd.read_csv('parkinsons.csv')\n",
        "\n",
        "# Displaying the first 5 rows of the dataframe\n",
        "print(parkinsons_data.head())\n",
        "\n",
        "# Number of rows and columns in the dataframe\n",
        "print(f\"Shape of dataset: {parkinsons_data.shape}\")\n",
        "\n",
        "# Getting more information about the dataset\n",
        "print(parkinsons_data.info())\n",
        "\n",
        "# Checking for missing values in each column\n",
        "print(parkinsons_data.isnull().sum())\n",
        "\n",
        "# Getting some statistical measures about the data\n",
        "print(parkinsons_data.describe())\n",
        "\n",
        "# Distribution of target variable\n",
        "print(parkinsons_data['status'].value_counts())\n",
        "\n",
        "\n"
      ],
      "metadata": {
        "colab": {
          "base_uri": "https://localhost:8080/"
        },
        "id": "OJ8Hz_wDlLo1",
        "outputId": "32fb369d-ad38-4b2a-f22a-976928272d39"
      },
      "execution_count": 42,
      "outputs": [
        {
          "output_type": "stream",
          "name": "stdout",
          "text": [
            "             name  MDVP:Fo(Hz)  MDVP:Fhi(Hz)  MDVP:Flo(Hz)  MDVP:Jitter(%)  \\\n",
            "0  phon_R01_S01_1      119.992       157.302        74.997         0.00784   \n",
            "1  phon_R01_S01_2      122.400       148.650       113.819         0.00968   \n",
            "2  phon_R01_S01_3      116.682       131.111       111.555         0.01050   \n",
            "3  phon_R01_S01_4      116.676       137.871       111.366         0.00997   \n",
            "4  phon_R01_S01_5      116.014       141.781       110.655         0.01284   \n",
            "\n",
            "   MDVP:Jitter(Abs)  MDVP:RAP  MDVP:PPQ  Jitter:DDP  MDVP:Shimmer  ...  \\\n",
            "0           0.00007   0.00370   0.00554     0.01109       0.04374  ...   \n",
            "1           0.00008   0.00465   0.00696     0.01394       0.06134  ...   \n",
            "2           0.00009   0.00544   0.00781     0.01633       0.05233  ...   \n",
            "3           0.00009   0.00502   0.00698     0.01505       0.05492  ...   \n",
            "4           0.00011   0.00655   0.00908     0.01966       0.06425  ...   \n",
            "\n",
            "   Shimmer:DDA      NHR     HNR  status      RPDE       DFA   spread1  \\\n",
            "0      0.06545  0.02211  21.033       1  0.414783  0.815285 -4.813031   \n",
            "1      0.09403  0.01929  19.085       1  0.458359  0.819521 -4.075192   \n",
            "2      0.08270  0.01309  20.651       1  0.429895  0.825288 -4.443179   \n",
            "3      0.08771  0.01353  20.644       1  0.434969  0.819235 -4.117501   \n",
            "4      0.10470  0.01767  19.649       1  0.417356  0.823484 -3.747787   \n",
            "\n",
            "    spread2        D2       PPE  \n",
            "0  0.266482  2.301442  0.284654  \n",
            "1  0.335590  2.486855  0.368674  \n",
            "2  0.311173  2.342259  0.332634  \n",
            "3  0.334147  2.405554  0.368975  \n",
            "4  0.234513  2.332180  0.410335  \n",
            "\n",
            "[5 rows x 24 columns]\n",
            "Shape of dataset: (195, 24)\n",
            "<class 'pandas.core.frame.DataFrame'>\n",
            "RangeIndex: 195 entries, 0 to 194\n",
            "Data columns (total 24 columns):\n",
            " #   Column            Non-Null Count  Dtype  \n",
            "---  ------            --------------  -----  \n",
            " 0   name              195 non-null    object \n",
            " 1   MDVP:Fo(Hz)       195 non-null    float64\n",
            " 2   MDVP:Fhi(Hz)      195 non-null    float64\n",
            " 3   MDVP:Flo(Hz)      195 non-null    float64\n",
            " 4   MDVP:Jitter(%)    195 non-null    float64\n",
            " 5   MDVP:Jitter(Abs)  195 non-null    float64\n",
            " 6   MDVP:RAP          195 non-null    float64\n",
            " 7   MDVP:PPQ          195 non-null    float64\n",
            " 8   Jitter:DDP        195 non-null    float64\n",
            " 9   MDVP:Shimmer      195 non-null    float64\n",
            " 10  MDVP:Shimmer(dB)  195 non-null    float64\n",
            " 11  Shimmer:APQ3      195 non-null    float64\n",
            " 12  Shimmer:APQ5      195 non-null    float64\n",
            " 13  MDVP:APQ          195 non-null    float64\n",
            " 14  Shimmer:DDA       195 non-null    float64\n",
            " 15  NHR               195 non-null    float64\n",
            " 16  HNR               195 non-null    float64\n",
            " 17  status            195 non-null    int64  \n",
            " 18  RPDE              195 non-null    float64\n",
            " 19  DFA               195 non-null    float64\n",
            " 20  spread1           195 non-null    float64\n",
            " 21  spread2           195 non-null    float64\n",
            " 22  D2                195 non-null    float64\n",
            " 23  PPE               195 non-null    float64\n",
            "dtypes: float64(22), int64(1), object(1)\n",
            "memory usage: 36.7+ KB\n",
            "None\n",
            "name                0\n",
            "MDVP:Fo(Hz)         0\n",
            "MDVP:Fhi(Hz)        0\n",
            "MDVP:Flo(Hz)        0\n",
            "MDVP:Jitter(%)      0\n",
            "MDVP:Jitter(Abs)    0\n",
            "MDVP:RAP            0\n",
            "MDVP:PPQ            0\n",
            "Jitter:DDP          0\n",
            "MDVP:Shimmer        0\n",
            "MDVP:Shimmer(dB)    0\n",
            "Shimmer:APQ3        0\n",
            "Shimmer:APQ5        0\n",
            "MDVP:APQ            0\n",
            "Shimmer:DDA         0\n",
            "NHR                 0\n",
            "HNR                 0\n",
            "status              0\n",
            "RPDE                0\n",
            "DFA                 0\n",
            "spread1             0\n",
            "spread2             0\n",
            "D2                  0\n",
            "PPE                 0\n",
            "dtype: int64\n",
            "       MDVP:Fo(Hz)  MDVP:Fhi(Hz)  MDVP:Flo(Hz)  MDVP:Jitter(%)  \\\n",
            "count   195.000000    195.000000    195.000000      195.000000   \n",
            "mean    154.228641    197.104918    116.324631        0.006220   \n",
            "std      41.390065     91.491548     43.521413        0.004848   \n",
            "min      88.333000    102.145000     65.476000        0.001680   \n",
            "25%     117.572000    134.862500     84.291000        0.003460   \n",
            "50%     148.790000    175.829000    104.315000        0.004940   \n",
            "75%     182.769000    224.205500    140.018500        0.007365   \n",
            "max     260.105000    592.030000    239.170000        0.033160   \n",
            "\n",
            "       MDVP:Jitter(Abs)    MDVP:RAP    MDVP:PPQ  Jitter:DDP  MDVP:Shimmer  \\\n",
            "count        195.000000  195.000000  195.000000  195.000000    195.000000   \n",
            "mean           0.000044    0.003306    0.003446    0.009920      0.029709   \n",
            "std            0.000035    0.002968    0.002759    0.008903      0.018857   \n",
            "min            0.000007    0.000680    0.000920    0.002040      0.009540   \n",
            "25%            0.000020    0.001660    0.001860    0.004985      0.016505   \n",
            "50%            0.000030    0.002500    0.002690    0.007490      0.022970   \n",
            "75%            0.000060    0.003835    0.003955    0.011505      0.037885   \n",
            "max            0.000260    0.021440    0.019580    0.064330      0.119080   \n",
            "\n",
            "       MDVP:Shimmer(dB)  ...  Shimmer:DDA         NHR         HNR      status  \\\n",
            "count        195.000000  ...   195.000000  195.000000  195.000000  195.000000   \n",
            "mean           0.282251  ...     0.046993    0.024847   21.885974    0.753846   \n",
            "std            0.194877  ...     0.030459    0.040418    4.425764    0.431878   \n",
            "min            0.085000  ...     0.013640    0.000650    8.441000    0.000000   \n",
            "25%            0.148500  ...     0.024735    0.005925   19.198000    1.000000   \n",
            "50%            0.221000  ...     0.038360    0.011660   22.085000    1.000000   \n",
            "75%            0.350000  ...     0.060795    0.025640   25.075500    1.000000   \n",
            "max            1.302000  ...     0.169420    0.314820   33.047000    1.000000   \n",
            "\n",
            "             RPDE         DFA     spread1     spread2          D2         PPE  \n",
            "count  195.000000  195.000000  195.000000  195.000000  195.000000  195.000000  \n",
            "mean     0.498536    0.718099   -5.684397    0.226510    2.381826    0.206552  \n",
            "std      0.103942    0.055336    1.090208    0.083406    0.382799    0.090119  \n",
            "min      0.256570    0.574282   -7.964984    0.006274    1.423287    0.044539  \n",
            "25%      0.421306    0.674758   -6.450096    0.174351    2.099125    0.137451  \n",
            "50%      0.495954    0.722254   -5.720868    0.218885    2.361532    0.194052  \n",
            "75%      0.587562    0.761881   -5.046192    0.279234    2.636456    0.252980  \n",
            "max      0.685151    0.825288   -2.434031    0.450493    3.671155    0.527367  \n",
            "\n",
            "[8 rows x 23 columns]\n",
            "status\n",
            "1    147\n",
            "0     48\n",
            "Name: count, dtype: int64\n"
          ]
        }
      ]
    },
    {
      "cell_type": "markdown",
      "source": [
        "### **Splitting the Features and Target**"
      ],
      "metadata": {
        "id": "TJZNKm0QlXw1"
      }
    },
    {
      "cell_type": "code",
      "source": [
        "X = parkinsons_data.drop(columns=['name', 'status'], axis=1)\n",
        "Y = parkinsons_data['status']\n",
        "X_train, X_test, Y_train, Y_test = train_test_split(X, Y, test_size=0.2, random_state=2)\n",
        "print(f\"Training data shape: {X_train.shape}\")\n",
        "print(f\"Test data shape: {X_test.shape}\")\n",
        "\n"
      ],
      "metadata": {
        "colab": {
          "base_uri": "https://localhost:8080/"
        },
        "id": "u3PCl9vNlgHc",
        "outputId": "54c01237-c524-4436-89df-8275b38924b3"
      },
      "execution_count": 44,
      "outputs": [
        {
          "output_type": "stream",
          "name": "stdout",
          "text": [
            "Training data shape: (156, 22)\n",
            "Test data shape: (39, 22)\n"
          ]
        }
      ]
    },
    {
      "cell_type": "markdown",
      "source": [
        "### **Splitting the Data into Training Data & Test Data**"
      ],
      "metadata": {
        "id": "H_7VJuSolj5n"
      }
    },
    {
      "cell_type": "code",
      "source": [
        "scaler = StandardScaler()\n",
        "X_train = scaler.fit_transform(X_train)\n",
        "X_test = scaler.transform(X_test)"
      ],
      "metadata": {
        "id": "LF_vekvzlpPx"
      },
      "execution_count": 45,
      "outputs": []
    },
    {
      "cell_type": "markdown",
      "source": [
        "### **Model Training and Evaluation**"
      ],
      "metadata": {
        "id": "1sDUsIgUlw77"
      }
    },
    {
      "cell_type": "code",
      "source": [
        "models = {\n",
        "    'Support Vector Machine': svm.SVC(kernel='linear', probability=True),\n",
        "    'Random Forest': RandomForestClassifier(),\n",
        "    'Gradient Boosting': GradientBoostingClassifier(),\n",
        "    'K-Nearest Neighbors': KNeighborsClassifier(),\n",
        "    'Logistic Regression': LogisticRegression(),\n",
        "    'Decision Tree': DecisionTreeClassifier()\n",
        "}\n",
        "\n",
        "results = {}"
      ],
      "metadata": {
        "id": "6ySkuE_ilzGc"
      },
      "execution_count": 46,
      "outputs": []
    },
    {
      "cell_type": "code",
      "source": [
        "for model_name, model in models.items():\n",
        "    # Training the model\n",
        "    model.fit(X_train, Y_train)\n",
        "\n",
        "    # Predicting on training and test data\n",
        "    train_predictions = model.predict(X_train)\n",
        "    test_predictions = model.predict(X_test)\n",
        "    test_probabilities = model.predict_proba(X_test)[:, 1]\n"
      ],
      "metadata": {
        "id": "ZLvFbU-kl7E1"
      },
      "execution_count": 47,
      "outputs": []
    },
    {
      "cell_type": "code",
      "source": [
        " # Calculating metrics\n",
        "accuracy = accuracy_score(Y_test, test_predictions)\n",
        "precision = precision_score(Y_test, test_predictions)\n",
        "recall = recall_score(Y_test, test_predictions)\n",
        "f1 = f1_score(Y_test, test_predictions)\n",
        "roc_auc = roc_auc_score(Y_test, test_probabilities)\n",
        "\n",
        "# Storing results\n",
        "results[model_name] = {\n",
        "'Accuracy': accuracy,\n",
        "'Precision': precision,\n",
        "'Recall': recall,\n",
        "'F1 Score': f1,\n",
        "'ROC AUC': roc_auc\n",
        "}\n",
        "\n",
        "# Printing classification report\n",
        "print(f\"\\n{model_name} Classification Report:\")\n",
        "print(classification_report(Y_test, test_predictions))\n",
        "\n",
        "# Displaying the comparison of models\n",
        "results_df = pd.DataFrame(results).T\n",
        "print(\"\\nModel Comparison:\")\n",
        "print(results_df)\n"
      ],
      "metadata": {
        "colab": {
          "base_uri": "https://localhost:8080/"
        },
        "id": "iSBaJPopl_qk",
        "outputId": "647616c3-9284-49ec-9a2a-be53508ccdae"
      },
      "execution_count": 49,
      "outputs": [
        {
          "output_type": "stream",
          "name": "stdout",
          "text": [
            "\n",
            "Decision Tree Classification Report:\n",
            "              precision    recall  f1-score   support\n",
            "\n",
            "           0       0.44      0.88      0.58         8\n",
            "           1       0.96      0.71      0.81        31\n",
            "\n",
            "    accuracy                           0.74        39\n",
            "   macro avg       0.70      0.79      0.70        39\n",
            "weighted avg       0.85      0.74      0.77        39\n",
            "\n",
            "\n",
            "Model Comparison:\n",
            "               Accuracy  F1 Score  Precision   ROC AUC    Recall\n",
            "Decision Tree   0.74359  0.814815   0.956522  0.792339  0.709677\n"
          ]
        }
      ]
    },
    {
      "cell_type": "code",
      "source": [
        "# Model Training & Evaluation\n",
        "models = {\n",
        "    'Support Vector Machine': svm.SVC(kernel='linear', probability=True),\n",
        "    'Random Forest': RandomForestClassifier(),\n",
        "    'Gradient Boosting': GradientBoostingClassifier(),\n",
        "    'K-Nearest Neighbors': KNeighborsClassifier(),\n",
        "    'Logistic Regression': LogisticRegression(),\n",
        "    'Decision Tree': DecisionTreeClassifier()\n",
        "}\n",
        "\n",
        "results = {}\n",
        "\n",
        "for model_name, model in models.items():\n",
        "    # Training the model\n",
        "    model.fit(X_train, Y_train)\n",
        "\n",
        "    # Predicting on test data\n",
        "    test_predictions = model.predict(X_test)\n",
        "    test_probabilities = model.predict_proba(X_test)[:, 1]\n",
        "\n",
        "    # Calculating metrics\n",
        "    accuracy = accuracy_score(Y_test, test_predictions)\n",
        "    precision = precision_score(Y_test, test_predictions)\n",
        "    recall = recall_score(Y_test, test_predictions)\n",
        "    f1 = f1_score(Y_test, test_predictions)\n",
        "    roc_auc = roc_auc_score(Y_test, test_probabilities)\n",
        "\n",
        "    # Storing results\n",
        "    results[model_name] = {\n",
        "        'Accuracy': accuracy,\n",
        "        'Precision': precision,\n",
        "        'Recall': recall,\n",
        "        'F1 Score': f1,\n",
        "        'ROC AUC': roc_auc\n",
        "    }\n",
        "\n",
        "\n",
        "# Displaying the comparison of models\n",
        "results_df = pd.DataFrame(results).T\n",
        "print(\"\\nModel Comparison:\")\n",
        "print(results_df)\n"
      ],
      "metadata": {
        "colab": {
          "base_uri": "https://localhost:8080/"
        },
        "id": "Tst-1C2U9zD_",
        "outputId": "53f9bd75-123f-4906-e991-f57409bfe43e"
      },
      "execution_count": 51,
      "outputs": [
        {
          "output_type": "stream",
          "name": "stdout",
          "text": [
            "\n",
            "Model Comparison:\n",
            "                        Accuracy  Precision    Recall  F1 Score   ROC AUC\n",
            "Support Vector Machine  0.871795   0.906250  0.935484  0.920635  0.818548\n",
            "Random Forest           0.820513   0.900000  0.870968  0.885246  0.915323\n",
            "Gradient Boosting       0.820513   0.928571  0.838710  0.881356  0.919355\n",
            "K-Nearest Neighbors     0.769231   0.923077  0.774194  0.842105  0.897177\n",
            "Logistic Regression     0.820513   0.900000  0.870968  0.885246  0.834677\n",
            "Decision Tree           0.769231   0.958333  0.741935  0.836364  0.808468\n"
          ]
        }
      ]
    },
    {
      "cell_type": "markdown",
      "source": [
        "## MODELS COMPARISON"
      ],
      "metadata": {
        "id": "oHMXJ_qN-0vk"
      }
    },
    {
      "cell_type": "code",
      "source": [
        "# Displaying the comparison of models\n",
        "results_df = pd.DataFrame(results).T\n",
        "print(\"\\nModel Comparison:\")\n",
        "print(results_df)"
      ],
      "metadata": {
        "colab": {
          "base_uri": "https://localhost:8080/"
        },
        "id": "6LiFdi4J-ywC",
        "outputId": "6ecaea97-809e-4fd4-f5e7-0f9ada704111"
      },
      "execution_count": 54,
      "outputs": [
        {
          "output_type": "stream",
          "name": "stdout",
          "text": [
            "\n",
            "Model Comparison:\n",
            "                        Accuracy  Precision    Recall  F1 Score   ROC AUC\n",
            "Support Vector Machine  0.906250   0.906250  0.935484  0.920635  0.818548\n",
            "Random Forest           0.820513   0.900000  0.870968  0.885246  0.915323\n",
            "Gradient Boosting       0.820513   0.928571  0.838710  0.881356  0.919355\n",
            "K-Nearest Neighbors     0.769231   0.923077  0.774194  0.842105  0.897177\n",
            "Logistic Regression     0.820513   0.900000  0.870968  0.885246  0.834677\n",
            "Decision Tree           0.769231   0.958333  0.741935  0.836364  0.808468\n"
          ]
        }
      ]
    },
    {
      "cell_type": "markdown",
      "source": [
        "### **Building a Predictive System**"
      ],
      "metadata": {
        "id": "SstOi9g7mHFZ"
      }
    },
    {
      "cell_type": "code",
      "source": [
        "input_data = (197.07600, 206.89600, 192.05500, 0.00289, 0.00001, 0.00166, 0.00168, 0.00498, 0.01098, 0.09700, 0.00563, 0.00680, 0.00802, 0.01689, 0.00339, 26.77500, 0.422229, 0.741367, -7.348300, 0.177551, 1.743867, 0.085569)\n",
        "\n",
        "# Changing input data to a numpy array\n",
        "input_data_as_numpy_array = np.asarray(input_data)\n",
        "\n",
        "# Reshaping the numpy array\n",
        "input_data_reshaped = input_data_as_numpy_array.reshape(1, -1)\n",
        "\n",
        "# Using the best model (replace 'Support Vector Machine' with the best model based on your results)\n",
        "best_model_name = 'Support Vector Machine'\n",
        "best_model = models[best_model_name]\n",
        "\n",
        "# Making a prediction\n",
        "prediction = best_model.predict(input_data_reshaped)\n",
        "print(\"\\nPrediction for input data with\", best_model_name, \":\")\n",
        "if prediction[0] == 0:\n",
        "    print(\"The Person does not have Parkinson's Disease\")\n",
        "else:\n",
        "    print(\"The Person has Parkinson's Disease\")\n"
      ],
      "metadata": {
        "colab": {
          "base_uri": "https://localhost:8080/"
        },
        "id": "lWFWOfp9mLpb",
        "outputId": "df2103c4-7786-4b3f-e208-6bd6de31ba71"
      },
      "execution_count": 52,
      "outputs": [
        {
          "output_type": "stream",
          "name": "stdout",
          "text": [
            "\n",
            "Prediction for input data with Support Vector Machine :\n",
            "The Person does not have Parkinson's Disease\n"
          ]
        }
      ]
    },
    {
      "cell_type": "code",
      "source": [
        "# Save the trained model\n",
        "filename = 'parkinsons_model.sav'\n",
        "pickle.dump(model, open(filename, 'wb'))\n",
        "\n",
        "# Load the saved model\n",
        "loaded_model = pickle.load(open('parkinsons_model.sav', 'rb'))\n",
        "print(\"\\nLoaded Model Columns:\")\n",
        "for column in X.columns:\n",
        "    print(column)\n"
      ],
      "metadata": {
        "colab": {
          "base_uri": "https://localhost:8080/"
        },
        "id": "wLGe7_xAmRL2",
        "outputId": "bc4f910e-cf59-44cb-c764-c42ece4c8de2"
      },
      "execution_count": 53,
      "outputs": [
        {
          "output_type": "stream",
          "name": "stdout",
          "text": [
            "\n",
            "Loaded Model Columns:\n",
            "MDVP:Fo(Hz)\n",
            "MDVP:Fhi(Hz)\n",
            "MDVP:Flo(Hz)\n",
            "MDVP:Jitter(%)\n",
            "MDVP:Jitter(Abs)\n",
            "MDVP:RAP\n",
            "MDVP:PPQ\n",
            "Jitter:DDP\n",
            "MDVP:Shimmer\n",
            "MDVP:Shimmer(dB)\n",
            "Shimmer:APQ3\n",
            "Shimmer:APQ5\n",
            "MDVP:APQ\n",
            "Shimmer:DDA\n",
            "NHR\n",
            "HNR\n",
            "RPDE\n",
            "DFA\n",
            "spread1\n",
            "spread2\n",
            "D2\n",
            "PPE\n"
          ]
        }
      ]
    },
    {
      "cell_type": "markdown",
      "source": [
        "# **Conclusion**\n",
        "This script covers the entire workflow from data loading to model evaluation and comparison. You can further refine the evaluation by using cross-validation or other techniques, but this script should give you a comprehensive start for your analysis."
      ],
      "metadata": {
        "id": "DfpmHdrymYXG"
      }
    }
  ]
}
